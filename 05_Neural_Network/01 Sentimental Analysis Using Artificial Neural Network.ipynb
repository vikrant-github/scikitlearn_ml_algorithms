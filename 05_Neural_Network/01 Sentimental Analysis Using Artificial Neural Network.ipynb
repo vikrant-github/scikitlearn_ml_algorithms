{
 "cells": [
  {
   "cell_type": "code",
   "execution_count": 95,
   "id": "5561c1f0",
   "metadata": {},
   "outputs": [],
   "source": [
    "import numpy as np\n",
    "import pandas as pd\n",
    "\n",
    "from sklearn.feature_extraction.text import CountVectorizer\n",
    "from sklearn.model_selection import train_test_split\n",
    "from sklearn.neural_network import MLPClassifier # Multi Layer Perceptron Classifier \n",
    "from sklearn.metrics import accuracy_score\n",
    "from sklearn.metrics import confusion_matrix\n",
    "from sklearn.metrics import classification_report\n",
    "from sklearn.model_selection import cross_val_score"
   ]
  },
  {
   "cell_type": "code",
   "execution_count": 96,
   "id": "bbfda50b",
   "metadata": {},
   "outputs": [],
   "source": [
    "movies_data = pd.read_csv(\"Data/movies.txt\", sep=\"\\t\", header = None, names = ['Sentiment', 'Review'])"
   ]
  },
  {
   "cell_type": "code",
   "execution_count": 97,
   "id": "6775e37f",
   "metadata": {},
   "outputs": [
    {
     "data": {
      "text/html": [
       "<div>\n",
       "<style scoped>\n",
       "    .dataframe tbody tr th:only-of-type {\n",
       "        vertical-align: middle;\n",
       "    }\n",
       "\n",
       "    .dataframe tbody tr th {\n",
       "        vertical-align: top;\n",
       "    }\n",
       "\n",
       "    .dataframe thead th {\n",
       "        text-align: right;\n",
       "    }\n",
       "</style>\n",
       "<table border=\"1\" class=\"dataframe\">\n",
       "  <thead>\n",
       "    <tr style=\"text-align: right;\">\n",
       "      <th></th>\n",
       "      <th>Sentiment</th>\n",
       "      <th>Review</th>\n",
       "    </tr>\n",
       "  </thead>\n",
       "  <tbody>\n",
       "    <tr>\n",
       "      <th>0</th>\n",
       "      <td>1</td>\n",
       "      <td>The Da Vinci Code book is just awesome.</td>\n",
       "    </tr>\n",
       "    <tr>\n",
       "      <th>1</th>\n",
       "      <td>1</td>\n",
       "      <td>this was the first clive cussler i've ever rea...</td>\n",
       "    </tr>\n",
       "    <tr>\n",
       "      <th>2</th>\n",
       "      <td>1</td>\n",
       "      <td>i liked the Da Vinci Code a lot.</td>\n",
       "    </tr>\n",
       "    <tr>\n",
       "      <th>3</th>\n",
       "      <td>1</td>\n",
       "      <td>i liked the Da Vinci Code a lot.</td>\n",
       "    </tr>\n",
       "    <tr>\n",
       "      <th>4</th>\n",
       "      <td>1</td>\n",
       "      <td>I liked the Da Vinci Code but it ultimatly did...</td>\n",
       "    </tr>\n",
       "  </tbody>\n",
       "</table>\n",
       "</div>"
      ],
      "text/plain": [
       "   Sentiment                                             Review\n",
       "0          1            The Da Vinci Code book is just awesome.\n",
       "1          1  this was the first clive cussler i've ever rea...\n",
       "2          1                   i liked the Da Vinci Code a lot.\n",
       "3          1                   i liked the Da Vinci Code a lot.\n",
       "4          1  I liked the Da Vinci Code but it ultimatly did..."
      ]
     },
     "execution_count": 97,
     "metadata": {},
     "output_type": "execute_result"
    }
   ],
   "source": [
    "movies_data.head()"
   ]
  },
  {
   "cell_type": "code",
   "execution_count": 98,
   "id": "639ff3b5",
   "metadata": {},
   "outputs": [
    {
     "data": {
      "text/plain": [
       "(6918, 2)"
      ]
     },
     "execution_count": 98,
     "metadata": {},
     "output_type": "execute_result"
    }
   ],
   "source": [
    "movies_data.shape"
   ]
  },
  {
   "cell_type": "code",
   "execution_count": 99,
   "id": "0d313a40",
   "metadata": {},
   "outputs": [
    {
     "data": {
      "text/plain": [
       "(6918, 2132)"
      ]
     },
     "execution_count": 99,
     "metadata": {},
     "output_type": "execute_result"
    }
   ],
   "source": [
    "count_vect = CountVectorizer()\n",
    "X_counts = count_vect.fit_transform(movies_data['Review'])\n",
    "X_counts.shape"
   ]
  },
  {
   "cell_type": "markdown",
   "id": "c2fc860c",
   "metadata": {},
   "source": [
    "### Analysing the behavior of Neural Network without removing the stop words"
   ]
  },
  {
   "cell_type": "code",
   "execution_count": 100,
   "id": "531d18a1",
   "metadata": {},
   "outputs": [],
   "source": [
    "X_train, X_test, y_train, y_test = train_test_split(X_counts, movies_data.Sentiment, test_size= 0.2, random_state= 111)"
   ]
  },
  {
   "cell_type": "code",
   "execution_count": 101,
   "id": "9e828c62",
   "metadata": {},
   "outputs": [
    {
     "data": {
      "text/plain": [
       "MLPClassifier(alpha=1e-05, hidden_layer_sizes=(5, 2), random_state=1)"
      ]
     },
     "execution_count": 101,
     "metadata": {},
     "output_type": "execute_result"
    }
   ],
   "source": [
    "model = MLPClassifier(activation='relu', alpha = 1e-05, hidden_layer_sizes=(5,2), random_state=1)\n",
    "model.fit(X=X_train, y=y_train)"
   ]
  },
  {
   "cell_type": "code",
   "execution_count": 102,
   "id": "e2c80f23",
   "metadata": {},
   "outputs": [],
   "source": [
    "y_pred = model.predict(X_train)"
   ]
  },
  {
   "cell_type": "code",
   "execution_count": 103,
   "id": "1df1d3bb",
   "metadata": {},
   "outputs": [
    {
     "name": "stdout",
     "output_type": "stream",
     "text": [
      "1.0\n"
     ]
    }
   ],
   "source": [
    "print(accuracy_score(y_train,y_pred))"
   ]
  },
  {
   "cell_type": "markdown",
   "id": "ab0a8af1",
   "metadata": {},
   "source": [
    "### As Training Set has a near perfect Accuracy Score, validate the model for overfitting"
   ]
  },
  {
   "cell_type": "code",
   "execution_count": 104,
   "id": "9eb14c17",
   "metadata": {},
   "outputs": [],
   "source": [
    "scores = cross_val_score (model, X_train, y_train, cv =5)\n"
   ]
  },
  {
   "cell_type": "code",
   "execution_count": 105,
   "id": "65efa9be",
   "metadata": {},
   "outputs": [
    {
     "name": "stdout",
     "output_type": "stream",
     "text": [
      "Accuracy: 0.99 (+/- 0.01)\n"
     ]
    }
   ],
   "source": [
    "print(\"Accuracy: %0.2f (+/- %0.2f)\" % (scores.mean(), scores.std() * 2))"
   ]
  },
  {
   "cell_type": "markdown",
   "id": "dfbaff9f",
   "metadata": {},
   "source": [
    "### Output of Neural Network after removing the Stop Words"
   ]
  },
  {
   "cell_type": "code",
   "execution_count": 106,
   "id": "7f37f988",
   "metadata": {},
   "outputs": [
    {
     "data": {
      "text/plain": [
       "(6918, 1921)"
      ]
     },
     "execution_count": 106,
     "metadata": {},
     "output_type": "execute_result"
    }
   ],
   "source": [
    "count_vect = CountVectorizer(stop_words='english')\n",
    "X_counts = count_vect.fit_transform(movies_data['Review'])\n",
    "X_counts.shape"
   ]
  },
  {
   "cell_type": "code",
   "execution_count": 107,
   "id": "62af5b0c",
   "metadata": {},
   "outputs": [],
   "source": [
    "X_train, X_test, y_train, y_test = train_test_split(X_counts, movies_data.Sentiment, test_size= 0.2, random_state= 1234)"
   ]
  },
  {
   "cell_type": "code",
   "execution_count": 108,
   "id": "90998b94",
   "metadata": {},
   "outputs": [
    {
     "data": {
      "text/plain": [
       "MLPClassifier(alpha=1e-05, hidden_layer_sizes=(5, 2), max_iter=1000,\n",
       "              random_state=1)"
      ]
     },
     "execution_count": 108,
     "metadata": {},
     "output_type": "execute_result"
    }
   ],
   "source": [
    "model = MLPClassifier(activation='relu', max_iter=1000, alpha = 1e-05, hidden_layer_sizes=(5,2), random_state=1)\n",
    "model.fit(X=X_train, y=y_train)"
   ]
  },
  {
   "cell_type": "code",
   "execution_count": 109,
   "id": "0eac5644",
   "metadata": {},
   "outputs": [],
   "source": [
    "y_pred = model.predict(X_train)"
   ]
  },
  {
   "cell_type": "code",
   "execution_count": 110,
   "id": "e12310aa",
   "metadata": {},
   "outputs": [
    {
     "name": "stdout",
     "output_type": "stream",
     "text": [
      "1.0\n"
     ]
    }
   ],
   "source": [
    "print(accuracy_score(y_train,y_pred))"
   ]
  },
  {
   "cell_type": "code",
   "execution_count": 111,
   "id": "6f5f9347",
   "metadata": {},
   "outputs": [
    {
     "name": "stdout",
     "output_type": "stream",
     "text": [
      "Accuracy: 0.99 (+/- 0.00)\n"
     ]
    }
   ],
   "source": [
    "scores = cross_val_score (model, X_train, y_train, cv =5)\n",
    "print(\"Accuracy: %0.2f (+/- %0.2f)\" % (scores.mean(), scores.std() * 2))"
   ]
  },
  {
   "cell_type": "code",
   "execution_count": 112,
   "id": "a4f4c033",
   "metadata": {},
   "outputs": [
    {
     "name": "stdout",
     "output_type": "stream",
     "text": [
      "0.990606936416185\n"
     ]
    }
   ],
   "source": [
    "y_pred = model.predict(X_test)\n",
    "print(accuracy_score(y_test,y_pred))"
   ]
  },
  {
   "cell_type": "markdown",
   "id": "a0f8a62f",
   "metadata": {},
   "source": [
    "### Confusion Matrix and Precision Recall Values"
   ]
  },
  {
   "cell_type": "code",
   "execution_count": 113,
   "id": "412324ba",
   "metadata": {},
   "outputs": [
    {
     "data": {
      "text/plain": [
       "array([[577,  13],\n",
       "       [  0, 794]], dtype=int64)"
      ]
     },
     "execution_count": 113,
     "metadata": {},
     "output_type": "execute_result"
    }
   ],
   "source": [
    "from sklearn.metrics import confusion_matrix\n",
    "confusion_matrix(y_test, y_pred)"
   ]
  },
  {
   "cell_type": "code",
   "execution_count": 114,
   "id": "b73ae193",
   "metadata": {},
   "outputs": [
    {
     "name": "stdout",
     "output_type": "stream",
     "text": [
      "              precision    recall  f1-score   support\n",
      "\n",
      "           0       1.00      0.98      0.99       590\n",
      "           1       0.98      1.00      0.99       794\n",
      "\n",
      "    accuracy                           0.99      1384\n",
      "   macro avg       0.99      0.99      0.99      1384\n",
      "weighted avg       0.99      0.99      0.99      1384\n",
      "\n"
     ]
    }
   ],
   "source": [
    "from sklearn.metrics import classification_report\n",
    "print(classification_report(y_test, y_pred))"
   ]
  }
 ],
 "metadata": {
  "kernelspec": {
   "display_name": "Python 3",
   "language": "python",
   "name": "python3"
  },
  "language_info": {
   "codemirror_mode": {
    "name": "ipython",
    "version": 3
   },
   "file_extension": ".py",
   "mimetype": "text/x-python",
   "name": "python",
   "nbconvert_exporter": "python",
   "pygments_lexer": "ipython3",
   "version": "3.8.11"
  }
 },
 "nbformat": 4,
 "nbformat_minor": 5
}
