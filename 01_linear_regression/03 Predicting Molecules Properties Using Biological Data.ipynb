{
 "cells": [
  {
   "cell_type": "code",
   "execution_count": 1,
   "id": "b8eb5f14",
   "metadata": {},
   "outputs": [],
   "source": [
    "import numpy as np\n",
    "import matplotlib.pyplot as plt\n",
    "\n",
    "from sklearn import linear_model\n",
    "from sklearn.metrics import mean_squared_error\n",
    "from sklearn.model_selection import train_test_split\n",
    "from sklearn.model_selection import cross_val_score"
   ]
  },
  {
   "cell_type": "code",
   "execution_count": 2,
   "id": "2311ca0e",
   "metadata": {},
   "outputs": [],
   "source": [
    "filename = \"CoEPrA.csv\"\n",
    "raw_data = open(filename, 'rt')\n",
    "data = np. loadtxt(raw_data, delimiter = ',')"
   ]
  },
  {
   "cell_type": "code",
   "execution_count": 3,
   "id": "995e5a46",
   "metadata": {},
   "outputs": [
    {
     "data": {
      "text/plain": [
       "(89, 5788)"
      ]
     },
     "execution_count": 3,
     "metadata": {},
     "output_type": "execute_result"
    }
   ],
   "source": [
    "data.shape"
   ]
  },
  {
   "cell_type": "code",
   "execution_count": 4,
   "id": "5b386ec2",
   "metadata": {},
   "outputs": [],
   "source": [
    "X = data[:, 0:5787]\n",
    "y = data[:, -1]"
   ]
  },
  {
   "cell_type": "code",
   "execution_count": 5,
   "id": "1e608758",
   "metadata": {},
   "outputs": [],
   "source": [
    "X_train, X_test, y_train, y_test = train_test_split(X, y, test_size = 0.2, random_state = 42)"
   ]
  },
  {
   "cell_type": "code",
   "execution_count": 6,
   "id": "736f9653",
   "metadata": {},
   "outputs": [
    {
     "name": "stdout",
     "output_type": "stream",
     "text": [
      "(71, 5787)\n",
      "(71,)\n",
      "(18, 5787)\n",
      "(18,)\n"
     ]
    }
   ],
   "source": [
    "print(X_train.shape)\n",
    "print(y_train.shape)\n",
    "print(X_test.shape)\n",
    "print(y_test.shape)"
   ]
  },
  {
   "cell_type": "markdown",
   "id": "3ec0e594",
   "metadata": {},
   "source": [
    "## Linear Regression Without Using Regularization"
   ]
  },
  {
   "cell_type": "code",
   "execution_count": 7,
   "id": "d9dc943c",
   "metadata": {},
   "outputs": [
    {
     "data": {
      "text/plain": [
       "LinearRegression()"
      ]
     },
     "execution_count": 7,
     "metadata": {},
     "output_type": "execute_result"
    }
   ],
   "source": [
    "model = linear_model.LinearRegression()\n",
    "model.fit(X_train,y_train)  # Training the model using 'Training Set'"
   ]
  },
  {
   "cell_type": "code",
   "execution_count": 8,
   "id": "72bd804d",
   "metadata": {},
   "outputs": [],
   "source": [
    "y_pred = model.predict(X_train) # Using 5787 features to predict the output"
   ]
  },
  {
   "cell_type": "code",
   "execution_count": 9,
   "id": "9ed2794d",
   "metadata": {},
   "outputs": [
    {
     "name": "stdout",
     "output_type": "stream",
     "text": [
      "Mean Squared Error: 0.00\n"
     ]
    }
   ],
   "source": [
    "print(\"Mean Squared Error: %.2f\" % mean_squared_error(y_train,y_pred)) #As per 'MSE,model fits perfectly, indicating overfitting"
   ]
  },
  {
   "cell_type": "markdown",
   "id": "e1beea0a",
   "metadata": {},
   "source": [
    "## Validating Overfitting with Cross Validation"
   ]
  },
  {
   "cell_type": "code",
   "execution_count": 10,
   "id": "2d8239e8",
   "metadata": {},
   "outputs": [],
   "source": [
    "# K-Fold Cross Validation\n",
    "scores = cross_val_score(model, X_train, y_train, scoring= 'neg_mean_squared_error', cv = 5)"
   ]
  },
  {
   "cell_type": "code",
   "execution_count": 11,
   "id": "95c739b0",
   "metadata": {},
   "outputs": [
    {
     "name": "stdout",
     "output_type": "stream",
     "text": [
      "-4.321758759171588e+16\n"
     ]
    }
   ],
   "source": [
    "print(np.mean(scores))"
   ]
  },
  {
   "cell_type": "markdown",
   "id": "601073df",
   "metadata": {},
   "source": [
    "## Very High Mean Squared Error With Test Dataset"
   ]
  },
  {
   "cell_type": "code",
   "execution_count": 12,
   "id": "b5720434",
   "metadata": {},
   "outputs": [],
   "source": [
    "y_pred_test = model.predict(X_test)"
   ]
  },
  {
   "cell_type": "code",
   "execution_count": 13,
   "id": "1ed337b5",
   "metadata": {},
   "outputs": [
    {
     "name": "stdout",
     "output_type": "stream",
     "text": [
      "Mean Squared Error: 7973557088888348.00\n"
     ]
    }
   ],
   "source": [
    "print(\"Mean Squared Error: %.2f\" % mean_squared_error(y_test,y_pred_test))"
   ]
  },
  {
   "cell_type": "markdown",
   "id": "349e500d",
   "metadata": {},
   "source": [
    "## L1 / Lasso Regression"
   ]
  },
  {
   "cell_type": "code",
   "execution_count": 14,
   "id": "7f8e29cc",
   "metadata": {},
   "outputs": [
    {
     "data": {
      "text/plain": [
       "Lasso(alpha=0.3, max_iter=1000000)"
      ]
     },
     "execution_count": 14,
     "metadata": {},
     "output_type": "execute_result"
    }
   ],
   "source": [
    "model = linear_model.Lasso(alpha = 0.3, max_iter = 1000000)\n",
    "model.fit(X_train, y_train)"
   ]
  },
  {
   "cell_type": "markdown",
   "id": "cf43cd95",
   "metadata": {},
   "source": [
    "## Checking the Weights"
   ]
  },
  {
   "cell_type": "code",
   "execution_count": 15,
   "id": "4dbeae79",
   "metadata": {},
   "outputs": [
    {
     "name": "stdout",
     "output_type": "stream",
     "text": [
      "[-0.  0. -0. ... -0. -0.  0.]\n"
     ]
    }
   ],
   "source": [
    "print(model.coef_)"
   ]
  },
  {
   "cell_type": "markdown",
   "id": "36a11ab8",
   "metadata": {},
   "source": [
    "## Many Cofficients have become zero"
   ]
  },
  {
   "cell_type": "code",
   "execution_count": 16,
   "id": "be0062f3",
   "metadata": {},
   "outputs": [
    {
     "name": "stdout",
     "output_type": "stream",
     "text": [
      "[  64  136  445  451  653  715  760  787  858 1236 1358 1422 1430 1732\n",
      " 1737 1874 1879 2065 2247 2374 2380 2581 2644 2689 2708 2890 3224 3351\n",
      " 3666 3931 3994 4002 4221 4303 4510 4573 4574 4637 4645 4819 4952 5153\n",
      " 5154 5280 5589 5595 5648 5732]\n"
     ]
    }
   ],
   "source": [
    "# Printing the indices of non zero coefficients\n",
    "index = np.nonzero(model.coef_)\n",
    "print(index[0])"
   ]
  },
  {
   "cell_type": "code",
   "execution_count": 17,
   "id": "ac5b7378",
   "metadata": {},
   "outputs": [],
   "source": [
    "# Create a new feature matrix with only selected features"
   ]
  },
  {
   "cell_type": "code",
   "execution_count": 18,
   "id": "bd18a052",
   "metadata": {},
   "outputs": [],
   "source": [
    "X_train_filter = X_train[:, index[0]]"
   ]
  },
  {
   "cell_type": "code",
   "execution_count": 19,
   "id": "85f31c28",
   "metadata": {},
   "outputs": [
    {
     "data": {
      "text/plain": [
       "(71, 48)"
      ]
     },
     "execution_count": 19,
     "metadata": {},
     "output_type": "execute_result"
    }
   ],
   "source": [
    "X_train_filter.shape"
   ]
  },
  {
   "cell_type": "code",
   "execution_count": 20,
   "id": "f7250965",
   "metadata": {},
   "outputs": [],
   "source": [
    "# Make prediction using the testing set\n",
    "y_pred = model.predict(X_train)"
   ]
  },
  {
   "cell_type": "code",
   "execution_count": 21,
   "id": "67d6cdf3",
   "metadata": {},
   "outputs": [
    {
     "name": "stdout",
     "output_type": "stream",
     "text": [
      "Mean Squared Error: 0.05\n"
     ]
    }
   ],
   "source": [
    "print(\"Mean Squared Error: %.2f\" % mean_squared_error(y_train, y_pred))"
   ]
  },
  {
   "cell_type": "code",
   "execution_count": 22,
   "id": "820dbbbb",
   "metadata": {},
   "outputs": [],
   "source": [
    "# K-Fold Cross Validation\n",
    "scores = cross_val_score(model, X_train, y_train, scoring= 'neg_mean_squared_error', cv = 5)"
   ]
  },
  {
   "cell_type": "code",
   "execution_count": 23,
   "id": "c6116151",
   "metadata": {},
   "outputs": [
    {
     "name": "stdout",
     "output_type": "stream",
     "text": [
      "-1.1615211159922427\n"
     ]
    }
   ],
   "source": [
    "print(np.mean(scores))"
   ]
  },
  {
   "cell_type": "code",
   "execution_count": 24,
   "id": "d4a26b99",
   "metadata": {},
   "outputs": [
    {
     "name": "stdout",
     "output_type": "stream",
     "text": [
      "Mean Squared Error: 0.69\n"
     ]
    }
   ],
   "source": [
    "y_pred_test = model.predict(X_test)\n",
    "print(\"Mean Squared Error: %.2f\" % mean_squared_error(y_test,y_pred_test))"
   ]
  },
  {
   "cell_type": "markdown",
   "id": "6554c1cc",
   "metadata": {},
   "source": [
    "#### Conclusion: Overfitting has recuded"
   ]
  },
  {
   "cell_type": "markdown",
   "id": "97ac2b8d",
   "metadata": {},
   "source": [
    "## L2 Ridge Regularization"
   ]
  },
  {
   "cell_type": "code",
   "execution_count": 25,
   "id": "daee28ea",
   "metadata": {},
   "outputs": [],
   "source": [
    "model = linear_model.Ridge(alpha = 0.8, max_iter = 1000000)\n",
    "model.fit(X_train_filter, y_train)\n",
    "y_pred = model.predict(X_train_filter)"
   ]
  },
  {
   "cell_type": "code",
   "execution_count": 26,
   "id": "523db665",
   "metadata": {},
   "outputs": [
    {
     "name": "stdout",
     "output_type": "stream",
     "text": [
      "Mean Squared Error: 0.03\n"
     ]
    }
   ],
   "source": [
    "print(\"Mean Squared Error: %.2f\" % mean_squared_error(y_train,y_pred))"
   ]
  },
  {
   "cell_type": "code",
   "execution_count": 27,
   "id": "17bc41d1",
   "metadata": {},
   "outputs": [
    {
     "name": "stdout",
     "output_type": "stream",
     "text": [
      "-1.2017669016787922\n"
     ]
    }
   ],
   "source": [
    "# K-Fold Cross Validation\n",
    "scores = cross_val_score(model, X_train_filter, y_train, scoring= 'neg_mean_squared_error', cv = 5)\n",
    "print(np.mean(scores))"
   ]
  },
  {
   "cell_type": "markdown",
   "id": "6da4ccb4",
   "metadata": {},
   "source": [
    "#### Conclusion: Cross validation values does not change much"
   ]
  },
  {
   "cell_type": "code",
   "execution_count": 28,
   "id": "0da23020",
   "metadata": {},
   "outputs": [],
   "source": [
    "X_test_filter = X_test[:, index[0]]"
   ]
  },
  {
   "cell_type": "code",
   "execution_count": 29,
   "id": "bb24a59e",
   "metadata": {},
   "outputs": [],
   "source": [
    "y_pred_test = model.predict(X_test_filter)"
   ]
  },
  {
   "cell_type": "code",
   "execution_count": 30,
   "id": "a1df5252",
   "metadata": {},
   "outputs": [
    {
     "name": "stdout",
     "output_type": "stream",
     "text": [
      "Mean Squared Error: 1.80\n"
     ]
    }
   ],
   "source": [
    "print(\"Mean Squared Error: %.2f\" % mean_squared_error(y_test,y_pred_test))"
   ]
  },
  {
   "cell_type": "code",
   "execution_count": null,
   "id": "325dc220",
   "metadata": {},
   "outputs": [],
   "source": []
  }
 ],
 "metadata": {
  "kernelspec": {
   "display_name": "Python 3",
   "language": "python",
   "name": "python3"
  },
  "language_info": {
   "codemirror_mode": {
    "name": "ipython",
    "version": 3
   },
   "file_extension": ".py",
   "mimetype": "text/x-python",
   "name": "python",
   "nbconvert_exporter": "python",
   "pygments_lexer": "ipython3",
   "version": "3.8.11"
  }
 },
 "nbformat": 4,
 "nbformat_minor": 5
}
