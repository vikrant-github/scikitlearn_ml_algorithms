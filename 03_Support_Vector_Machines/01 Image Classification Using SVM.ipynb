{
 "cells": [
  {
   "cell_type": "markdown",
   "id": "4e39ab81",
   "metadata": {},
   "source": [
    "## A. Image Classification Using Logistic Regression"
   ]
  },
  {
   "cell_type": "code",
   "execution_count": 26,
   "id": "eeab6284",
   "metadata": {},
   "outputs": [],
   "source": [
    "import numpy as np\n",
    "import matplotlib.pyplot as plt\n",
    "\n",
    "from sklearn.datasets import load_digits\n",
    "from sklearn.model_selection import train_test_split\n",
    "\n",
    "from sklearn.linear_model import LogisticRegression"
   ]
  },
  {
   "cell_type": "code",
   "execution_count": 27,
   "id": "573ac748",
   "metadata": {},
   "outputs": [],
   "source": [
    "digits = load_digits()"
   ]
  },
  {
   "cell_type": "code",
   "execution_count": 28,
   "id": "4e984b28",
   "metadata": {},
   "outputs": [
    {
     "name": "stdout",
     "output_type": "stream",
     "text": [
      "Image Data Shape (1797, 64)\n",
      "Label Data Shape (1797,)\n"
     ]
    }
   ],
   "source": [
    "print(\"Image Data Shape\", digits.data.shape)\n",
    "print(\"Label Data Shape\", digits.target.shape)"
   ]
  },
  {
   "cell_type": "code",
   "execution_count": 29,
   "id": "aef000ec",
   "metadata": {},
   "outputs": [
    {
     "data": {
      "image/png": "[encoded data removed]",
      "text/plain": [
       "<Figure size 2000x400 with 5 Axes>"
      ]
     },
     "metadata": {},
     "output_type": "display_data"
    }
   ],
   "source": [
    "plt.figure(figsize=(20,4))\n",
    "for index, (image, label) in enumerate(zip(digits.data[0:5], digits.target[0:5])):\n",
    "    plt.subplot(1, 5,index + 1)\n",
    "    plt.imshow(np.reshape(image, (8,8)), cmap = plt.cm.gray)\n",
    "    plt.title(\"Training: %i\\n\" % label, fontsize=20)\n",
    "plt.show() "
   ]
  },
  {
   "cell_type": "code",
   "execution_count": 30,
   "id": "34c354e2",
   "metadata": {},
   "outputs": [],
   "source": [
    "X_train, X_test, y_train, y_test = train_test_split(digits.data, digits.target, test_size= 0.25, random_state=1)"
   ]
  },
  {
   "cell_type": "code",
   "execution_count": 31,
   "id": "36858a41",
   "metadata": {},
   "outputs": [],
   "source": [
    "model_logicstic_regression = LogisticRegression(max_iter = 5000)"
   ]
  },
  {
   "cell_type": "code",
   "execution_count": 32,
   "id": "a22c29c7",
   "metadata": {},
   "outputs": [
    {
     "data": {
      "text/plain": [
       "LogisticRegression(max_iter=5000)"
      ]
     },
     "execution_count": 32,
     "metadata": {},
     "output_type": "execute_result"
    }
   ],
   "source": [
    "model_logicstic_regression.fit(X_train, y_train)"
   ]
  },
  {
   "cell_type": "code",
   "execution_count": 34,
   "id": "332adb12",
   "metadata": {},
   "outputs": [],
   "source": [
    "predictions = model_logicstic_regression.predict(X_test) # Predicting the model output from the Test data"
   ]
  },
  {
   "cell_type": "code",
   "execution_count": 35,
   "id": "3da06b69",
   "metadata": {},
   "outputs": [],
   "source": [
    "score = model_logicstic_regression.score(X_test, y_test)"
   ]
  },
  {
   "cell_type": "code",
   "execution_count": 36,
   "id": "93b657ca",
   "metadata": {},
   "outputs": [
    {
     "name": "stdout",
     "output_type": "stream",
     "text": [
      "0.9688888888888889\n"
     ]
    }
   ],
   "source": [
    "print(score) # Printing the score"
   ]
  },
  {
   "cell_type": "markdown",
   "id": "72a09603",
   "metadata": {},
   "source": [
    "## B. Image Classification Using Support Vector Machines (Linear Kernel)"
   ]
  },
  {
   "cell_type": "code",
   "execution_count": 47,
   "id": "5ff0de3f",
   "metadata": {},
   "outputs": [],
   "source": [
    "from sklearn.svm import SVC"
   ]
  },
  {
   "cell_type": "code",
   "execution_count": 48,
   "id": "cdca83ec",
   "metadata": {},
   "outputs": [],
   "source": [
    "model_svmClassifierLinear = SVC(kernel= 'linear')"
   ]
  },
  {
   "cell_type": "code",
   "execution_count": 49,
   "id": "b00b41b2",
   "metadata": {},
   "outputs": [
    {
     "data": {
      "text/plain": [
       "SVC(kernel='linear')"
      ]
     },
     "execution_count": 49,
     "metadata": {},
     "output_type": "execute_result"
    }
   ],
   "source": [
    "model_svmClassifierLinear.fit(X_train, y_train)"
   ]
  },
  {
   "cell_type": "code",
   "execution_count": 50,
   "id": "a46074c1",
   "metadata": {},
   "outputs": [],
   "source": [
    "predictionsSVMLinear = model_svmClassifierLinear.predict(X_test)"
   ]
  },
  {
   "cell_type": "code",
   "execution_count": 51,
   "id": "79134de0",
   "metadata": {},
   "outputs": [],
   "source": [
    "scoreSVMLinear = model_svmClassifierLinear.score(X_test, y_test)"
   ]
  },
  {
   "cell_type": "code",
   "execution_count": 52,
   "id": "0b13199e",
   "metadata": {},
   "outputs": [
    {
     "name": "stdout",
     "output_type": "stream",
     "text": [
      "0.9844444444444445\n"
     ]
    }
   ],
   "source": [
    "print(scoreSVMLinear)"
   ]
  },
  {
   "cell_type": "markdown",
   "id": "5e4f7c2b",
   "metadata": {},
   "source": [
    "## C. Image Classification Using Support Vector Machines (Poly Kernel)"
   ]
  },
  {
   "cell_type": "code",
   "execution_count": 53,
   "id": "8da68142",
   "metadata": {},
   "outputs": [],
   "source": [
    "model_svmClassifierPoly = SVC(kernel= 'poly')"
   ]
  },
  {
   "cell_type": "code",
   "execution_count": 54,
   "id": "ea11769d",
   "metadata": {},
   "outputs": [
    {
     "data": {
      "text/plain": [
       "SVC(kernel='poly')"
      ]
     },
     "execution_count": 54,
     "metadata": {},
     "output_type": "execute_result"
    }
   ],
   "source": [
    "model_svmClassifierPoly.fit(X_train, y_train)"
   ]
  },
  {
   "cell_type": "code",
   "execution_count": 56,
   "id": "1b904c61",
   "metadata": {},
   "outputs": [],
   "source": [
    "predictionsSVMPoly = model_svmClassifierPoly.predict(X_test)"
   ]
  },
  {
   "cell_type": "code",
   "execution_count": 57,
   "id": "b2483004",
   "metadata": {},
   "outputs": [],
   "source": [
    "predictionsSVMPoly = model_svmClassifierPoly.score(X_test, y_test)"
   ]
  },
  {
   "cell_type": "code",
   "execution_count": 59,
   "id": "55642a85",
   "metadata": {},
   "outputs": [
    {
     "name": "stdout",
     "output_type": "stream",
     "text": [
      "0.9866666666666667\n"
     ]
    }
   ],
   "source": [
    "print(predictionsSVMPoly)"
   ]
  }
 ],
 "metadata": {
  "kernelspec": {
   "display_name": "Python 3",
   "language": "python",
   "name": "python3"
  },
  "language_info": {
   "codemirror_mode": {
    "name": "ipython",
    "version": 3
   },
   "file_extension": ".py",
   "mimetype": "text/x-python",
   "name": "python",
   "nbconvert_exporter": "python",
   "pygments_lexer": "ipython3",
   "version": "3.8.11"
  }
 },
 "nbformat": 4,
 "nbformat_minor": 5
}
